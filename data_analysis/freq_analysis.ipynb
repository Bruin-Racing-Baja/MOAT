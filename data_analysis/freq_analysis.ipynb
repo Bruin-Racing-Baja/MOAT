{
 "cells": [
  {
   "cell_type": "code",
   "execution_count": null,
   "metadata": {},
   "outputs": [],
   "source": [
    "import numpy as np\n",
    "import matplotlib.pyplot as plt\n",
    "import scipy\n",
    "\n",
    "file_path = 'Ella_Error_run.TXT'\n",
    "\n",
    "properties = [\"status\", \"rpm\", \"act_vel\", \"enc_pos\", \"full_in\", \"full_out\", \"control_start\", \"control_stop\", \"odrive_voltage\", \"odrive_current\", \"cooling_temp\"]\n",
    "\n",
    "data_log = np.loadtxt(file_path, dtype=float, delimiter=', ', skiprows=4, ndmin=2)\n",
    "\n",
    "x = "
   ]
  }
 ],
 "metadata": {
  "language_info": {
   "name": "python"
  },
  "orig_nbformat": 4
 },
 "nbformat": 4,
 "nbformat_minor": 2
}
